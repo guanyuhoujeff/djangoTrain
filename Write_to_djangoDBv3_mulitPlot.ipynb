{
 "cells": [
  {
   "cell_type": "code",
   "execution_count": 3,
   "metadata": {},
   "outputs": [],
   "source": [
    "import pandas as pd\n",
    "import sqlite3\n",
    "import os"
   ]
  },
  {
   "cell_type": "code",
   "execution_count": 4,
   "metadata": {},
   "outputs": [
    {
     "name": "stdout",
     "output_type": "stream",
     "text": [
      "DJANGO\t   Untitled.ipynb\t      Write_to_djangoDBv3_mulitPlot.ipynb\r\n",
      "myweb\t   Write_to_djangoDB.ipynb\r\n",
      "README.md  Write_to_djangoDBv2.ipynb\r\n"
     ]
    }
   ],
   "source": [
    "!ls "
   ]
  },
  {
   "cell_type": "code",
   "execution_count": 5,
   "metadata": {},
   "outputs": [],
   "source": [
    "djangoDB_path = './myweb/db.sqlite3'"
   ]
  },
  {
   "cell_type": "markdown",
   "metadata": {},
   "source": [
    "# res 為　db.sqlite3　裡面有的table"
   ]
  },
  {
   "cell_type": "code",
   "execution_count": 6,
   "metadata": {},
   "outputs": [],
   "source": [
    "conn = sqlite3.connect(djangoDB_path)\n",
    "c = conn.cursor()\n",
    "\n",
    "# Create table\n",
    "c.execute('''select name from sqlite_master where type='table' order by name;''')\n",
    "res = c.fetchall()\n",
    "# Save (commit) the changes\n",
    "conn.commit()\n",
    "\n",
    "# We can also close the connection if we are done with it.\n",
    "# Just be sure any changes have been committed or they will be lost.\n",
    "conn.close()"
   ]
  },
  {
   "cell_type": "code",
   "execution_count": 7,
   "metadata": {},
   "outputs": [],
   "source": [
    "import pandas as pd\n",
    "from pymongo import MongoClient\n",
    "from pymongo import errors\n",
    "import numpy as np"
   ]
  },
  {
   "cell_type": "code",
   "execution_count": 8,
   "metadata": {},
   "outputs": [],
   "source": [
    "def connectMongoDB(port):\n",
    "    #uri = \"mongodb://192.168.1.44\" \n",
    "    client = MongoClient(port = port, serverSelectionTimeoutMS=1)\n",
    "    _ = client.server_info()\n",
    "    db = client[\"kafka\"]\n",
    "    return db\n",
    "db = connectMongoDB(27017)"
   ]
  },
  {
   "cell_type": "markdown",
   "metadata": {},
   "source": [
    "# 從monogoDB 取出　並　寫入　db.sqlite3"
   ]
  },
  {
   "cell_type": "code",
   "execution_count": 9,
   "metadata": {},
   "outputs": [],
   "source": [
    "conn = sqlite3.connect(djangoDB_path)\n",
    "c = conn.cursor()\n",
    "\n",
    "\n",
    "test_fund = pd.DataFrame(list( db[\"test_fund\"].find({})))\n",
    "test_fund = test_fund.drop(\"_id\",1)\n",
    "test_fund = test_fund[[\"date\", \"price\", \"blueP\", \"redP\"]]\n",
    "#test_fund = test_fund.fillna(-1)\n",
    "# Insert a row of data\n",
    "test_fund.to_sql(\"mainsite_historyprice\", if_exists=\"replace\", con=conn, index_label=\"id\")\n",
    "\n",
    "# Save (commit) the changes\n",
    "conn.commit()\n",
    "# We can also close the connection if we are done with it.\n",
    "# Just be sure any changes have been committed or they will be lost.\n",
    "conn.close()"
   ]
  },
  {
   "cell_type": "markdown",
   "metadata": {},
   "source": [
    "# 　re_test_fund　=>  查看被寫入db.sqlite3的資料"
   ]
  },
  {
   "cell_type": "code",
   "execution_count": 11,
   "metadata": {},
   "outputs": [],
   "source": [
    "conn = sqlite3.connect(djangoDB_path)\n",
    "\n",
    "re_test_fund = pd.read_sql_query(\"SELECT * FROM mainsite_historyprice\", conn)\n",
    "\n",
    "# Save (commit) the changes\n",
    "conn.commit()\n",
    "# We can also close the connection if we are done with it.\n",
    "# Just be sure any changes have been committed or they will be lost.\n",
    "conn.close()"
   ]
  },
  {
   "cell_type": "markdown",
   "metadata": {
    "scrolled": true
   },
   "source": [
    "# 將資料寫到要呈現的JS檔"
   ]
  },
  {
   "cell_type": "code",
   "execution_count": 73,
   "metadata": {},
   "outputs": [],
   "source": [
    "demo_chart_path = \"myweb/myweb/static/mysite/js/demo\"\n",
    "viewData = re_test_fund.tail(60)\n",
    "\n",
    "#viewData = viewData.fillna(round(viewData.price.min()*0.7))"
   ]
  },
  {
   "cell_type": "code",
   "execution_count": 74,
   "metadata": {},
   "outputs": [],
   "source": [
    "# {'dict', 'list', 'series', 'split', 'records', 'index'}\n"
   ]
  },
  {
   "cell_type": "code",
   "execution_count": null,
   "metadata": {
    "scrolled": true
   },
   "outputs": [],
   "source": []
  },
  {
   "cell_type": "code",
   "execution_count": 91,
   "metadata": {},
   "outputs": [
    {
     "data": {
      "text/plain": [
       "141.96"
      ]
     },
     "execution_count": 91,
     "metadata": {},
     "output_type": "execute_result"
    }
   ],
   "source": []
  },
  {
   "cell_type": "code",
   "execution_count": 100,
   "metadata": {},
   "outputs": [],
   "source": [
    "categories = \"\\n'categories':[{\\n'category': %s}]\"%(\n",
    "    viewData[[\"date\"]].rename(columns={\"date\":\"label\"}).to_dict(\"records\")\n",
    ")\n",
    "PriceData = \"\\n'seriesname': 'Pirce',\\n 'anchorBgColor':'#849e93',\\n 'data':%s\"%(\n",
    "    viewData[[\"price\"]].rename(columns={\"price\":\"value\"}).astype(str).to_dict(\"records\")\n",
    ")\n",
    "RedPriceData = \"\\n'seriesname': 'RedSign',\\n 'anchorBgColor':'#d30e49',\\n 'data':%s\"%(\n",
    "    viewData[[\"redP\"]].rename(columns={\"redP\":\"value\"}).astype(str).to_dict(\"records\")\n",
    ")\n",
    "BluePriceData = \"\\n'seriesname': 'BlueSign',\\n 'anchorBgColor':'#1e44ed',\\n 'data':%s\"%(\n",
    "    viewData[[\"blueP\"]].rename(columns={\"blueP\":\"value\"}).astype(str).to_dict(\"records\")\n",
    ")\n",
    "\n",
    "dataset = \"'dataset':[{%s\\n},{%s\\n},{%s\\n}]\"%(PriceData, RedPriceData, BluePriceData)\n",
    "chart = '\\n\"chart\": {\\n\"caption\": \"Social Media Platforms Popularity\",\\n\"subCaption\": \"2012-2016\",\\n\"theme\": \"hulk-light\",\\n\"showhovereffect\": \"1\",\\n\"xAxisName\": \"Years\",\\n\"showValues\": \"%d\",\\n\"drawCrossLine\": \"1\",\\n\"crossLineAlpha\": \"100\",\\n\"crossLineColor\": \"#cc3300\"\\n   }'%(viewData.price.min())\n",
    "\n",
    "dataSource = \"\\ndataSource:{\\n  %s,\\n %s ,\\n %s }\"%(chart, categories, dataset)\n",
    "\n",
    "FusionCharts = \"{\\n%s,\\n %s,\\n %s,\\n %s,\\n %s,\\n %s}\"%(\"type: 'msline'\",\n",
    "                                           \"renderAt: 'chart-container'\" ,\n",
    "                                           \"width : '100%'\",\n",
    "                                           \"height: '400'\",\n",
    "                                           \"dataFormat: 'json'\",\n",
    "                                           dataSource\n",
    "                                          )\n",
    "toJSFile = \"FusionCharts.ready(\\nfunction() {\\nvar popularityChart = new FusionCharts(\\n%s\\n).render();\\n});\"%FusionCharts"
   ]
  },
  {
   "cell_type": "code",
   "execution_count": 101,
   "metadata": {},
   "outputs": [],
   "source": [
    "with open(os.path.join(demo_chart_path, \"multi-series2.js\"), \"w\") as writer:\n",
    "    writer.write(toJSFile)"
   ]
  },
  {
   "cell_type": "code",
   "execution_count": null,
   "metadata": {
    "scrolled": true
   },
   "outputs": [],
   "source": []
  },
  {
   "cell_type": "code",
   "execution_count": null,
   "metadata": {},
   "outputs": [],
   "source": []
  },
  {
   "cell_type": "code",
   "execution_count": null,
   "metadata": {},
   "outputs": [],
   "source": []
  },
  {
   "cell_type": "code",
   "execution_count": 89,
   "metadata": {},
   "outputs": [
    {
     "data": {
      "text/plain": [
       "\"\\n'seriesname': 'RedSign',\\n 'anchorBgColor':'#d30e49',\\n 'data':[{'value': 'nan'}, {'value': 'nan'}, {'value': 'nan'}, {'value': 'nan'}, {'value': 'nan'}, {'value': 'nan'}, {'value': 'nan'}, {'value': 'nan'}, {'value': 'nan'}, {'value': 'nan'}, {'value': 'nan'}, {'value': 'nan'}, {'value': 'nan'}, {'value': 'nan'}, {'value': 'nan'}, {'value': 'nan'}, {'value': 'nan'}, {'value': 'nan'}, {'value': 'nan'}, {'value': 'nan'}, {'value': 'nan'}, {'value': 'nan'}, {'value': 'nan'}, {'value': 'nan'}, {'value': 'nan'}, {'value': 'nan'}, {'value': 'nan'}, {'value': 'nan'}, {'value': 'nan'}, {'value': 'nan'}, {'value': 'nan'}, {'value': 'nan'}, {'value': 'nan'}, {'value': 'nan'}, {'value': 'nan'}, {'value': 'nan'}, {'value': 'nan'}, {'value': 'nan'}, {'value': 'nan'}, {'value': 'nan'}, {'value': 'nan'}, {'value': 'nan'}, {'value': 'nan'}, {'value': 'nan'}, {'value': 'nan'}, {'value': 'nan'}, {'value': 'nan'}, {'value': 'nan'}, {'value': 'nan'}, {'value': 'nan'}, {'value': 'nan'}, {'value': 'nan'}, {'value': 'nan'}, {'value': 'nan'}, {'value': 'nan'}, {'value': 'nan'}, {'value': 'nan'}, {'value': 'nan'}, {'value': 'nan'}, {'value': 'nan'}]\""
      ]
     },
     "execution_count": 89,
     "metadata": {},
     "output_type": "execute_result"
    }
   ],
   "source": [
    "RedPriceData"
   ]
  },
  {
   "cell_type": "code",
   "execution_count": 88,
   "metadata": {},
   "outputs": [
    {
     "data": {
      "text/plain": [
       "\"\\n'seriesname': 'BlueSign',\\n 'anchorBgColor':'#1e44ed',\\n 'data':[{'value': 'nan'}, {'value': 'nan'}, {'value': 'nan'}, {'value': 'nan'}, {'value': 'nan'}, {'value': 'nan'}, {'value': 'nan'}, {'value': 'nan'}, {'value': 'nan'}, {'value': 'nan'}, {'value': 'nan'}, {'value': 'nan'}, {'value': 'nan'}, {'value': 'nan'}, {'value': 'nan'}, {'value': 'nan'}, {'value': 'nan'}, {'value': 'nan'}, {'value': 'nan'}, {'value': 'nan'}, {'value': 'nan'}, {'value': 'nan'}, {'value': 'nan'}, {'value': 'nan'}, {'value': 'nan'}, {'value': 'nan'}, {'value': 'nan'}, {'value': 'nan'}, {'value': 'nan'}, {'value': 'nan'}, {'value': 'nan'}, {'value': 'nan'}, {'value': 'nan'}, {'value': 'nan'}, {'value': 'nan'}, {'value': 'nan'}, {'value': 'nan'}, {'value': 'nan'}, {'value': 'nan'}, {'value': 'nan'}, {'value': 'nan'}, {'value': 'nan'}, {'value': 'nan'}, {'value': 'nan'}, {'value': 'nan'}, {'value': 'nan'}, {'value': 'nan'}, {'value': 'nan'}, {'value': 'nan'}, {'value': 'nan'}, {'value': 'nan'}, {'value': 'nan'}, {'value': 'nan'}, {'value': 'nan'}, {'value': 'nan'}, {'value': 'nan'}, {'value': 'nan'}, {'value': 'nan'}, {'value': 'nan'}, {'value': 'nan'}]\""
      ]
     },
     "execution_count": 88,
     "metadata": {},
     "output_type": "execute_result"
    }
   ],
   "source": [
    "BluePriceData"
   ]
  },
  {
   "cell_type": "code",
   "execution_count": null,
   "metadata": {},
   "outputs": [],
   "source": []
  },
  {
   "cell_type": "code",
   "execution_count": 9,
   "metadata": {},
   "outputs": [],
   "source": []
  },
  {
   "cell_type": "code",
   "execution_count": 74,
   "metadata": {},
   "outputs": [],
   "source": []
  },
  {
   "cell_type": "markdown",
   "metadata": {},
   "source": [
    "# Price"
   ]
  },
  {
   "cell_type": "code",
   "execution_count": 75,
   "metadata": {},
   "outputs": [],
   "source": [
    "POINT_COLOR = \"'rgba(53, 149, 50, 1)'\"## 點的顏色\n",
    "\n",
    "\n",
    "DATA_DATASETS_LABEL = \"'Sessions'\"\n",
    "DATA_DATASETS_LINETENSION = 0.3\n",
    "DATA_DATASETS_BACKGROUNDCOLOR = \"'rgba(2,117,216,0.2)'\"\n",
    "DATA_DATASETS_BORDERCOLOR = POINT_COLOR\n",
    "DATA_DATASETS_POINTRADIUS = 2\n",
    "DATA_DATASETS_POINTBACKGROUNDCOLOR = POINT_COLOR\n",
    "DATA_DATASETS_POINTBORDERCOLOR = \"'rgba(255,255,255,0.8)'\"\n",
    "DATA_DATASETS_POINTHOVERRADIUS = 2\n",
    "DATA_DATASETS_POINTHOVERBACKGROUNDCOLOR = POINT_COLOR\n",
    "DATA_DATASETS_POINTHITRADIUS = 2\n",
    "DATA_DATASETS_POINTBORDERWIDTH = 1\n",
    "DATA_DATASETS_DATA = viewData.price.values.tolist()\n",
    "\n",
    "data_datasets_label = \"label: %s\"%(DATA_DATASETS_LABEL)\n",
    "data_datasets_lineTension = \"lineTension: %d\"%(DATA_DATASETS_LINETENSION)\n",
    "data_datasets_backgroundColor = \"backgroundColor: %s\"%(DATA_DATASETS_BACKGROUNDCOLOR)\n",
    "data_datasets_borderColor = \"borderColor: %s\"%(DATA_DATASETS_BORDERCOLOR)\n",
    "data_datasets_pointRadius = \"pointRadius: %d\"%(DATA_DATASETS_POINTRADIUS)\n",
    "data_datasets_pointBackgroundColor = \"pointBackgroundColor: %s\"%(DATA_DATASETS_POINTBACKGROUNDCOLOR)\n",
    "data_datasets_pointBorderColor = \"pointBorderColor: %s\"%(DATA_DATASETS_POINTBORDERCOLOR)\n",
    "data_datasets_pointHoverRadius = \"pointHoverRadius: %d\"%(DATA_DATASETS_POINTHOVERRADIUS)\n",
    "data_datasets_pointHoverBackgroundColor = \"pointHoverBackgroundColor: %s\"%(DATA_DATASETS_POINTHOVERBACKGROUNDCOLOR)\n",
    "data_datasets_pointHitRadius = \"pointHitRadius: %d\"%(DATA_DATASETS_POINTHITRADIUS)\n",
    "data_datasets_pointBorderWidth = \"pointBorderWidth: %d\"%(DATA_DATASETS_POINTBORDERWIDTH)\n",
    "data_datasets_data = \"data: %s\"%(DATA_DATASETS_DATA)\n",
    "\n",
    "data_datasets = \"datasets:[{%s, %s, %s, %s, %s, %s, %s, %s, %s, %s, %s, %s}]\"%(\n",
    "    data_datasets_label,\n",
    "    data_datasets_lineTension,\n",
    "    data_datasets_backgroundColor,\n",
    "    data_datasets_borderColor,\n",
    "    data_datasets_pointRadius,\n",
    "    data_datasets_pointBackgroundColor,\n",
    "    data_datasets_pointBorderColor,\n",
    "    data_datasets_pointHoverRadius,\n",
    "    data_datasets_pointHoverBackgroundColor,\n",
    "    data_datasets_pointHitRadius,\n",
    "    data_datasets_pointBorderWidth,\n",
    "    data_datasets_data,)\n",
    "\n",
    "DATA_LABELS = viewData.date.values.tolist()\n",
    "data_labels = \"labels: %s\"%(DATA_LABELS)\n",
    "_data = \"data:{%s,%s}\"%(data_labels, data_datasets)\n",
    "\n",
    "OPTIONS_SCALES_XAXES_TIME = \"'date'\"\n",
    "OPTIONS_SCALES_XAXES_GRIDLINES = \"false\"\n",
    "OPTIONS_SCALES_XAXES_TICKS = 5\n",
    "OPTIONS_SCALES_YAXES_TICKS_MIN = round(viewData.price.min()*0.7)\n",
    "OPTIONS_SCALES_YAXES_TICKS_MAX = round(viewData.price.max()*1.3)\n",
    "OPTIONS_SCALES_YAXES_TICKS_MAXTICKSLIMIT = 5\n",
    "OPTIONS_SCALES_YAXES_GRIDLINES = \"'rgba(0, 0, 0, .125)'\"\n",
    "OPTIONS_LENGEND = \"false\"\n",
    "\n",
    "options_scales_xAxes_ticks = \"ticks: {maxTicksLimit: %d}\"%(OPTIONS_SCALES_XAXES_TICKS)        \n",
    "options_scales_xAxes_gridLines = \"gridLines: {display: %s}\"%(OPTIONS_SCALES_XAXES_GRIDLINES)\n",
    "options_scales_xAxes_time = \"time: {unit: %s}\"%(OPTIONS_SCALES_XAXES_TIME)\n",
    "options_scales_xAxes = \"xAxes: [{%s,%s,%s}]\"%(\n",
    "    options_scales_xAxes_time, \n",
    "    options_scales_xAxes_gridLines,\n",
    "    options_scales_xAxes_ticks\n",
    ")\n",
    "\n",
    "options_scales_yAxes_gridLines = \"gridLines: {color: %s}\"%(OPTIONS_SCALES_YAXES_GRIDLINES)\n",
    "options_scales_yAxes_ticks = \"ticks: {min:%f, max:%f, maxTicksLimit:%d}\"%(OPTIONS_SCALES_YAXES_TICKS_MIN,\n",
    "                                                                          OPTIONS_SCALES_YAXES_TICKS_MAX,\n",
    "                                                                          OPTIONS_SCALES_YAXES_TICKS_MAXTICKSLIMIT\n",
    "                                                                         )     \n",
    "options_scales_yAxes = \"yAxes: [{%s,%s}]\"%(\n",
    "    options_scales_yAxes_ticks, \n",
    "    options_scales_yAxes_gridLines,\n",
    ")\n",
    "options_scales = \"scales:{%s,%s}\"%(options_scales_xAxes, options_scales_yAxes)\n",
    "\n",
    "options_legend = \"legend:{ display :%s}\"%(OPTIONS_LENGEND)\n",
    "options = \"options:{%s, %s}\"%(options_scales, options_legend)\n",
    "\n",
    "\n",
    "TYPE = 'line'\n",
    "_type = \"type: '%s'\"%(TYPE)\n",
    "\n",
    "postJson = \"{%s, %s, %s}\"%(_type, _data, options)\n",
    "PriceLineChart = \"var PriceLineChart = new Chart(Pctx, %s);\"%(postJson)"
   ]
  },
  {
   "cell_type": "markdown",
   "metadata": {},
   "source": [
    "# Red Sign"
   ]
  },
  {
   "cell_type": "code",
   "execution_count": 76,
   "metadata": {},
   "outputs": [],
   "source": [
    "redP_viewData  = viewData.dropna(subset=[\"redP\"])\n",
    "\n",
    "if redP_viewData.empty:\n",
    "    redP_viewData_price_list = []\n",
    "    redP_viewData_date_list  = []\n",
    "    OPTIONS_SCALES_YAXES_TICKS_MIN = round(viewData.price.min()*0.7)\n",
    "    OPTIONS_SCALES_YAXES_TICKS_MAX = round(viewData.price.max()*1.3)\n",
    "else:\n",
    "    redP_viewData_price_list = redP_viewData.redP.values.tolist()\n",
    "    redP_viewData_date_list  = redP_viewData.date.values.tolist()\n",
    "    OPTIONS_SCALES_YAXES_TICKS_MIN = round((redP_viewData.redP.min())*0.7)\n",
    "    OPTIONS_SCALES_YAXES_TICKS_MAX = round((redP_viewData.redP.max())*1.3)\n",
    "\n",
    "POINT_COLOR = \"'rgba(236, 24, 27, 1)'\"  ## 點的顏色\n",
    "\n",
    "\n",
    "DATA_DATASETS_LABEL = \"'Sessions'\"\n",
    "DATA_DATASETS_LINETENSION = 0\n",
    "DATA_DATASETS_BACKGROUNDCOLOR = \"'rgba(2,117,216,0.2)'\"\n",
    "DATA_DATASETS_BORDERCOLOR = POINT_COLOR\n",
    "DATA_DATASETS_POINTRADIUS = 5\n",
    "DATA_DATASETS_POINTBACKGROUNDCOLOR = POINT_COLOR\n",
    "DATA_DATASETS_POINTBORDERCOLOR = \"'rgba(255, 0, 0, 0.7)'\"\n",
    "DATA_DATASETS_POINTHOVERRADIUS = 5\n",
    "DATA_DATASETS_POINTHOVERBACKGROUNDCOLOR = POINT_COLOR\n",
    "DATA_DATASETS_POINTHITRADIUS = 2\n",
    "DATA_DATASETS_POINTBORDERWIDTH = 1\n",
    "DATA_DATASETS_DATA = redP_viewData_price_list\n",
    "\n",
    "data_datasets_label = \"label: %s\"%(DATA_DATASETS_LABEL)\n",
    "data_datasets_lineTension = \"lineTension: %d\"%(DATA_DATASETS_LINETENSION)\n",
    "data_datasets_backgroundColor = \"backgroundColor: %s\"%(DATA_DATASETS_BACKGROUNDCOLOR)\n",
    "data_datasets_borderColor = \"borderColor: %s\"%(DATA_DATASETS_BORDERCOLOR)\n",
    "data_datasets_pointRadius = \"pointRadius: %d\"%(DATA_DATASETS_POINTRADIUS)\n",
    "data_datasets_pointBackgroundColor = \"pointBackgroundColor: %s\"%(DATA_DATASETS_POINTBACKGROUNDCOLOR)\n",
    "data_datasets_pointBorderColor = \"pointBorderColor: %s\"%(DATA_DATASETS_POINTBORDERCOLOR)\n",
    "data_datasets_pointHoverRadius = \"pointHoverRadius: %d\"%(DATA_DATASETS_POINTHOVERRADIUS)\n",
    "data_datasets_pointHitRadius = \"pointHitRadius: %d\"%(DATA_DATASETS_POINTHITRADIUS)\n",
    "data_datasets_pointBorderWidth = \"pointBorderWidth: %d\"%(DATA_DATASETS_POINTBORDERWIDTH)\n",
    "data_datasets_data = \"data: %s\"%(DATA_DATASETS_DATA)\n",
    "\n",
    "data_datasets = \"datasets:[{%s, %s, %s, %s, %s, %s, %s, %s, %s, %s, %s, %s}]\"%(\n",
    "    data_datasets_label,\n",
    "    data_datasets_lineTension,\n",
    "    data_datasets_backgroundColor,\n",
    "    data_datasets_borderColor,\n",
    "    data_datasets_pointRadius,\n",
    "    data_datasets_pointBackgroundColor,\n",
    "    data_datasets_pointBorderColor,\n",
    "    data_datasets_pointHoverRadius,\n",
    "    data_datasets_pointHoverBackgroundColor,\n",
    "    data_datasets_pointHitRadius,\n",
    "    data_datasets_pointBorderWidth,\n",
    "    data_datasets_data,)\n",
    "\n",
    "DATA_LABELS = redP_viewData_date_list\n",
    "data_labels = \"labels: %s\"%(DATA_LABELS)\n",
    "_data = \"data:{%s,%s}\"%(data_labels, data_datasets)\n",
    "\n",
    "OPTIONS_SCALES_XAXES_TIME = \"'date'\"\n",
    "OPTIONS_SCALES_XAXES_GRIDLINES = \"false\"\n",
    "OPTIONS_SCALES_XAXES_TICKS = 5\n",
    "OPTIONS_SCALES_YAXES_TICKS_MAXTICKSLIMIT = 5\n",
    "OPTIONS_SCALES_YAXES_GRIDLINES = \"'rgba(0, 0, 0, .125)'\"\n",
    "OPTIONS_LENGEND = \"false\"\n",
    "\n",
    "options_scales_xAxes_ticks = \"ticks: {maxTicksLimit: %d}\"%(OPTIONS_SCALES_XAXES_TICKS)        \n",
    "options_scales_xAxes_gridLines = \"gridLines: {display: %s}\"%(OPTIONS_SCALES_XAXES_GRIDLINES)\n",
    "options_scales_xAxes_time = \"time: {unit: %s}\"%(OPTIONS_SCALES_XAXES_TIME)\n",
    "options_scales_xAxes = \"xAxes: [{%s,%s,%s}]\"%(\n",
    "    options_scales_xAxes_time, \n",
    "    options_scales_xAxes_gridLines,\n",
    "    options_scales_xAxes_ticks\n",
    ")\n",
    "\n",
    "options_scales_yAxes_gridLines = \"gridLines: {color: %s}\"%(OPTIONS_SCALES_YAXES_GRIDLINES)\n",
    "options_scales_yAxes_ticks = \"ticks: {min:%f, max:%f, maxTicksLimit:%d}\"%(OPTIONS_SCALES_YAXES_TICKS_MIN,\n",
    "                                                                          OPTIONS_SCALES_YAXES_TICKS_MAX,\n",
    "                                                                          OPTIONS_SCALES_YAXES_TICKS_MAXTICKSLIMIT\n",
    "                                                                         )     \n",
    "options_scales_yAxes = \"yAxes: [{%s,%s}]\"%(\n",
    "    options_scales_yAxes_ticks, \n",
    "    options_scales_yAxes_gridLines,\n",
    ")\n",
    "options_scales = \"scales:{%s,%s}\"%(options_scales_xAxes, options_scales_yAxes)\n",
    "\n",
    "options_legend = \"legend:{ display :%s}\"%(OPTIONS_LENGEND)\n",
    "options = \"options:{%s, %s}\"%(options_scales, options_legend)\n",
    "\n",
    "\n",
    "TYPE = 'line'\n",
    "_type = \"type: '%s'\"%(TYPE)\n",
    "\n",
    "postJson = \"{%s, %s, %s}\"%(_type, _data, options)\n",
    "RedPLineChart = \"var RedPLineChart = new Chart(Rctx, %s);\"%(postJson)"
   ]
  },
  {
   "cell_type": "markdown",
   "metadata": {},
   "source": [
    "# Blue Sign"
   ]
  },
  {
   "cell_type": "code",
   "execution_count": 77,
   "metadata": {},
   "outputs": [],
   "source": [
    "blueP_viewData = viewData.dropna(subset=[\"blueP\"])\n",
    "\n",
    "if blueP_viewData.empty:\n",
    "    blueP_viewData_price_list = []\n",
    "    blueP_viewData_date_list  = []\n",
    "    OPTIONS_SCALES_YAXES_TICKS_MIN = round(viewData.price.min()*0.7)\n",
    "    OPTIONS_SCALES_YAXES_TICKS_MAX = round(viewData.price.max()*1.3)\n",
    "else:\n",
    "    blueP_viewData_price_list = blueP_viewData.blueP.values.tolist()\n",
    "    blueP_viewData_date_list  = blueP_viewData.date.values.tolist()\n",
    "    OPTIONS_SCALES_YAXES_TICKS_MIN = round((blueP_viewData.blueP.min())*0.7)\n",
    "    OPTIONS_SCALES_YAXES_TICKS_MAX = round((blueP_viewData.blueP.max())*1.3)\n",
    "\n",
    "POINT_COLOR = \"'rgba(99, 145, 242, 1)'\"  ## 點的顏色\n",
    "\n",
    "DATA_DATASETS_LABEL = \"'Sessions'\"\n",
    "DATA_DATASETS_LINETENSION = 0\n",
    "DATA_DATASETS_BACKGROUNDCOLOR = \"'rgba(2,117,216,0.2)'\"\n",
    "DATA_DATASETS_BORDERCOLOR = POINT_COLOR\n",
    "DATA_DATASETS_POINTRADIUS = 5\n",
    "DATA_DATASETS_POINTBACKGROUNDCOLOR = POINT_COLOR\n",
    "DATA_DATASETS_POINTBORDERCOLOR = \"'rgba(255, 0, 0, 0.7)'\"\n",
    "DATA_DATASETS_POINTHOVERRADIUS = 5\n",
    "DATA_DATASETS_POINTHOVERBACKGROUNDCOLOR = POINT_COLOR\n",
    "DATA_DATASETS_POINTHITRADIUS = 2\n",
    "DATA_DATASETS_POINTBORDERWIDTH = 1\n",
    "DATA_DATASETS_DATA = blueP_viewData_price_list\n",
    "\n",
    "data_datasets_label = \"label: %s\"%(DATA_DATASETS_LABEL)\n",
    "data_datasets_lineTension = \"lineTension: %d\"%(DATA_DATASETS_LINETENSION)\n",
    "data_datasets_backgroundColor = \"backgroundColor: %s\"%(DATA_DATASETS_BACKGROUNDCOLOR)\n",
    "data_datasets_borderColor = \"borderColor: %s\"%(DATA_DATASETS_BORDERCOLOR)\n",
    "data_datasets_pointRadius = \"pointRadius: %d\"%(DATA_DATASETS_POINTRADIUS)\n",
    "data_datasets_pointBackgroundColor = \"pointBackgroundColor: %s\"%(DATA_DATASETS_POINTBACKGROUNDCOLOR)\n",
    "data_datasets_pointBorderColor = \"pointBorderColor: %s\"%(DATA_DATASETS_POINTBORDERCOLOR)\n",
    "data_datasets_pointHoverRadius = \"pointHoverRadius: %d\"%(DATA_DATASETS_POINTHOVERRADIUS)\n",
    "data_datasets_pointHitRadius = \"pointHitRadius: %d\"%(DATA_DATASETS_POINTHITRADIUS)\n",
    "data_datasets_pointBorderWidth = \"pointBorderWidth: %d\"%(DATA_DATASETS_POINTBORDERWIDTH)\n",
    "data_datasets_data = \"data: %s\"%(DATA_DATASETS_DATA)\n",
    "\n",
    "data_datasets = \"datasets:[{%s, %s, %s, %s, %s, %s, %s, %s, %s, %s, %s, %s}]\"%(\n",
    "    data_datasets_label,\n",
    "    data_datasets_lineTension,\n",
    "    data_datasets_backgroundColor,\n",
    "    data_datasets_borderColor,\n",
    "    data_datasets_pointRadius,\n",
    "    data_datasets_pointBackgroundColor,\n",
    "    data_datasets_pointBorderColor,\n",
    "    data_datasets_pointHoverRadius,\n",
    "    data_datasets_pointHoverBackgroundColor,\n",
    "    data_datasets_pointHitRadius,\n",
    "    data_datasets_pointBorderWidth,\n",
    "    data_datasets_data,)\n",
    "\n",
    "DATA_LABELS = blueP_viewData_date_list\n",
    "data_labels = \"labels: %s\"%(DATA_LABELS)\n",
    "_data = \"data:{%s,%s}\"%(data_labels, data_datasets)\n",
    "\n",
    "OPTIONS_SCALES_XAXES_TIME = \"'date'\"\n",
    "OPTIONS_SCALES_XAXES_GRIDLINES = \"false\"\n",
    "OPTIONS_SCALES_XAXES_TICKS = 5\n",
    "OPTIONS_SCALES_YAXES_TICKS_MAXTICKSLIMIT = 5\n",
    "OPTIONS_SCALES_YAXES_GRIDLINES = \"'rgba(0, 0, 0, .125)'\"\n",
    "OPTIONS_LENGEND = \"false\"\n",
    "\n",
    "options_scales_xAxes_ticks = \"ticks: {maxTicksLimit: %d}\"%(OPTIONS_SCALES_XAXES_TICKS)        \n",
    "options_scales_xAxes_gridLines = \"gridLines: {display: %s}\"%(OPTIONS_SCALES_XAXES_GRIDLINES)\n",
    "options_scales_xAxes_time = \"time: {unit: %s}\"%(OPTIONS_SCALES_XAXES_TIME)\n",
    "options_scales_xAxes = \"xAxes: [{%s,%s,%s}]\"%(\n",
    "    options_scales_xAxes_time, \n",
    "    options_scales_xAxes_gridLines,\n",
    "    options_scales_xAxes_ticks\n",
    ")\n",
    "\n",
    "options_scales_yAxes_gridLines = \"gridLines: {color: %s}\"%(OPTIONS_SCALES_YAXES_GRIDLINES)\n",
    "options_scales_yAxes_ticks = \"ticks: {min:%f, max:%f, maxTicksLimit:%d}\"%(OPTIONS_SCALES_YAXES_TICKS_MIN,\n",
    "                                                                          OPTIONS_SCALES_YAXES_TICKS_MAX,\n",
    "                                                                          OPTIONS_SCALES_YAXES_TICKS_MAXTICKSLIMIT\n",
    "                                                                         )     \n",
    "options_scales_yAxes = \"yAxes: [{%s,%s}]\"%(\n",
    "    options_scales_yAxes_ticks, \n",
    "    options_scales_yAxes_gridLines,\n",
    ")\n",
    "options_scales = \"scales:{%s,%s}\"%(options_scales_xAxes, options_scales_yAxes)\n",
    "\n",
    "options_legend = \"legend:{ display :%s}\"%(OPTIONS_LENGEND)\n",
    "options = \"options:{%s, %s}\"%(options_scales, options_legend)\n",
    "\n",
    "\n",
    "TYPE = 'line'\n",
    "_type = \"type: '%s'\"%(TYPE)\n",
    "\n",
    "postJson = \"{%s, %s, %s}\"%(_type, _data, options)\n",
    "BluePLineChart = \"var BluePLineChart = new Chart(Bctx, %s);\"%(postJson)"
   ]
  },
  {
   "cell_type": "code",
   "execution_count": 78,
   "metadata": {},
   "outputs": [],
   "source": [
    "postJSON = \"%s\\n%s\\n%s\\n%s\\n%s\\n%s\\n%s\\n%s\\n\"%(\n",
    "    \"Chart.defaults.global.defaultFontFamily = '%s';\"%('-apple-system,system-ui,BlinkMacSystemFont,\"Segoe UI\",Roboto,\"Helvetica Neue\",Arial,sans-serif'),\n",
    "    \"Chart.defaults.global.defaultFontColor = '#292b2c';\",\n",
    "    \"var Pctx = document.getElementById('myAreaChart');\",\n",
    "    \"var Rctx = document.getElementById('myRed');\",\n",
    "    \"var Bctx = document.getElementById('myBlue');\",\n",
    "    PriceLineChart,\n",
    "    RedPLineChart,\n",
    "    BluePLineChart\n",
    ")"
   ]
  },
  {
   "cell_type": "code",
   "execution_count": 79,
   "metadata": {},
   "outputs": [],
   "source": [
    "with open(os.path.join(demo_chart_path, \"my-chart-area-demo2.js\"), \"w\") as writer:\n",
    "    writer.write(postJSON)"
   ]
  },
  {
   "cell_type": "code",
   "execution_count": null,
   "metadata": {},
   "outputs": [],
   "source": []
  }
 ],
 "metadata": {
  "kernelspec": {
   "display_name": "Python 3",
   "language": "python",
   "name": "python3"
  },
  "language_info": {
   "codemirror_mode": {
    "name": "ipython",
    "version": 3
   },
   "file_extension": ".py",
   "mimetype": "text/x-python",
   "name": "python",
   "nbconvert_exporter": "python",
   "pygments_lexer": "ipython3",
   "version": "3.6.4"
  }
 },
 "nbformat": 4,
 "nbformat_minor": 2
}
